{
  "nbformat": 4,
  "nbformat_minor": 0,
  "metadata": {
    "colab": {
      "provenance": [],
      "authorship_tag": "ABX9TyO6JQovmxPn/h9w43sBaZKq",
      "include_colab_link": true
    },
    "kernelspec": {
      "name": "python3",
      "display_name": "Python 3"
    },
    "language_info": {
      "name": "python"
    }
  },
  "cells": [
    {
      "cell_type": "markdown",
      "metadata": {
        "id": "view-in-github",
        "colab_type": "text"
      },
      "source": [
        "<a href=\"https://colab.research.google.com/github/zapata-git/50projects50days/blob/master/X-sortVSQsort.ipynb\" target=\"_parent\"><img src=\"https://colab.research.google.com/assets/colab-badge.svg\" alt=\"Open In Colab\"/></a>"
      ]
    },
    {
      "cell_type": "code",
      "execution_count": 1,
      "metadata": {
        "colab": {
          "base_uri": "https://localhost:8080/",
          "height": 130
        },
        "id": "mIY8U9TcNCk0",
        "outputId": "23f1513b-c57d-48bc-d530-9dba280aae93"
      },
      "outputs": [
        {
          "output_type": "error",
          "ename": "IndentationError",
          "evalue": "ignored",
          "traceback": [
            "\u001b[0;36m  File \u001b[0;32m\"<ipython-input-1-fcd62ac91ba5>\"\u001b[0;36m, line \u001b[0;32m16\u001b[0m\n\u001b[0;31m    x = []\u001b[0m\n\u001b[0m    ^\u001b[0m\n\u001b[0;31mIndentationError\u001b[0m\u001b[0;31m:\u001b[0m expected an indented block\n"
          ]
        }
      ],
      "source": [
        "import random\n",
        "import time\n",
        "import matplotlib.pyplot as plt\n",
        "\n",
        "def qsort(arr):\n",
        "    if len(arr) <= 1:\n",
        "        return arr\n",
        "    pivote = arr[0]\n",
        "    izquierda = [x for x in arr[1:] if x <= pivote]\n",
        "    derecha = [x for x in arr[1:] if x > pivote]\n",
        "    return qsort(izquierda) + [pivote] + qsort(derecha)\n",
        "\n",
        "def xsort(arr):\n",
        "    # Implementación del algoritmo xsort\n",
        "\n",
        "x = []\n",
        "y_qsort = []\n",
        "y_xsort = []\n",
        "for i in range(1, 101):\n",
        "    datos = random.sample(range(1, 10001), i)\n",
        "    inicio = time.time()\n",
        "    qsort(datos)\n",
        "    fin = time.time()\n",
        "    y_qsort.append(fin - inicio)\n",
        "    inicio = time.time()\n",
        "    xsort(datos)\n",
        "    fin = time.time()\n",
        "    y_xsort.append(fin - inicio)\n",
        "    x.append(i)\n",
        "\n",
        "fig, ax = plt.subplots()\n",
        "ax.plot(x, y_qsort, '-o', color='blue', markersize=5, label='qsort')\n",
        "ax.plot(x, y_xsort, '-o', color='red', markersize=5, label='xsort')\n",
        "ax.set_xlabel(\"Número de datos\")\n",
        "ax.set_ylabel(\"Tiempo de ejecución (segundos)\")\n",
        "ax.set_title(\"Complejidad computacional de qsort y xsort con 100 datos numéricos en Python\")\n",
        "ax.legend()\n",
        "plt.grid(True)\n",
        "plt.show()\n"
      ]
    }
  ]
}