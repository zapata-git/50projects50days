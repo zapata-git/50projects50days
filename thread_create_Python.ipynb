{
  "nbformat": 4,
  "nbformat_minor": 0,
  "metadata": {
    "colab": {
      "provenance": [],
      "authorship_tag": "ABX9TyPKVbXk0s9IKmE0xAv4rHe+",
      "include_colab_link": true
    },
    "kernelspec": {
      "name": "python3",
      "display_name": "Python 3"
    },
    "language_info": {
      "name": "python"
    }
  },
  "cells": [
    {
      "cell_type": "markdown",
      "metadata": {
        "id": "view-in-github",
        "colab_type": "text"
      },
      "source": [
        "<a href=\"https://colab.research.google.com/github/zapata-git/50projects50days/blob/master/thread_create_Python.ipynb\" target=\"_parent\"><img src=\"https://colab.research.google.com/assets/colab-badge.svg\" alt=\"Open In Colab\"/></a>"
      ]
    },
    {
      "cell_type": "code",
      "execution_count": 1,
      "metadata": {
        "colab": {
          "base_uri": "https://localhost:8080/"
        },
        "id": "OKk8plP1Zr8J",
        "outputId": "dc474a18-3d9c-4331-b50f-77322740bc31"
      },
      "outputs": [
        {
          "output_type": "stream",
          "name": "stdout",
          "text": [
            "=== Programa de Ejemplo con Hilos y Barra de Progreso ===\n",
            "Ingrese dos números para el hilo:\n",
            "Número 1: 5\n",
            "Número 2: 4\n",
            "\n",
            "[Principal] Creando el hilo 1...\n",
            "\n",
            "[Hilo 1] Iniciando...[Principal] Hilo 1 iniciado.\n",
            "\n",
            "\n"
          ]
        },
        {
          "output_type": "stream",
          "name": "stderr",
          "text": [
            "[Hilo 1] Procesando: 100%|██████████| 10/10 [00:05<00:00,  1.99tarea/s]"
          ]
        },
        {
          "output_type": "stream",
          "name": "stdout",
          "text": [
            "\n",
            "[Hilo 1] Valores recibidos: 5 4\n",
            "[Hilo 1] Finalizando...\n",
            "\n",
            "[Principal] Hilo finalizado. ¡Todo listo!\n",
            "\n"
          ]
        },
        {
          "output_type": "stream",
          "name": "stderr",
          "text": [
            "\n"
          ]
        }
      ],
      "source": [
        "import threading\n",
        "import time\n",
        "from tqdm import tqdm\n",
        "\n",
        "\n",
        "def mythread(args, thread_id):\n",
        "    a, b = args\n",
        "    print(f\"\\n[Hilo {thread_id}] Iniciando...\")\n",
        "\n",
        "\n",
        "    for i in tqdm(range(10), desc=f\"[Hilo {thread_id}] Procesando\", unit=\"tarea\"):\n",
        "        time.sleep(0.5)\n",
        "\n",
        "    print(f\"\\n[Hilo {thread_id}] Valores recibidos: {a} {b}\")\n",
        "    print(f\"[Hilo {thread_id}] Finalizando...\\n\")\n",
        "\n",
        "if __name__ == \"__main__\":\n",
        "    print(\"=== Programa de Ejemplo con Hilos y Barra de Progreso ===\")\n",
        "\n",
        "\n",
        "    print(\"Ingrese dos números para el hilo:\")\n",
        "    a = int(input(\"Número 1: \"))\n",
        "    b = int(input(\"Número 2: \"))\n",
        "    args = (a, b)\n",
        "\n",
        "\n",
        "    thread_id = 1\n",
        "    thread = threading.Thread(target=mythread, args=(args, thread_id))\n",
        "    print(f\"\\n[Principal] Creando el hilo {thread_id}...\")\n",
        "\n",
        "\n",
        "    thread.start()\n",
        "    print(f\"[Principal] Hilo {thread_id} iniciado.\\n\")\n",
        "\n",
        "\n",
        "    thread.join()\n",
        "    print(\"[Principal] Hilo finalizado. ¡Todo listo!\\n\")"
      ]
    }
  ]
}